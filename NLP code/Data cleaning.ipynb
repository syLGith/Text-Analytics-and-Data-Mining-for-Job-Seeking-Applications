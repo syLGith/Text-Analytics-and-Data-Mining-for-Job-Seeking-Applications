{
 "cells": [
  {
   "cell_type": "code",
   "execution_count": 56,
   "id": "c8161755",
   "metadata": {},
   "outputs": [],
   "source": [
    "import docx2txt\n",
    "import warnings\n",
    "warnings.filterwarnings('ignore')\n",
    "import pandas as pd\n",
    "from nltk.corpus import stopwords\n",
    "import re\n",
    "from sklearn.feature_extraction.text import CountVectorizer\n",
    "from sklearn.metrics.pairwise import cosine_similarity"
   ]
  },
  {
   "cell_type": "code",
   "execution_count": 57,
   "id": "2a8b043e",
   "metadata": {},
   "outputs": [],
   "source": [
    "import pandas as pd\n",
    "from nltk.corpus import stopwords\n",
    "import re\n",
    "\n",
    "\n",
    "df = pd.read_csv('./data/Jobs.csv')\n",
    "df_course= pd.read_excel('./data/course.xlsx')"
   ]
  },
  {
   "cell_type": "code",
   "execution_count": 58,
   "id": "9019090a",
   "metadata": {},
   "outputs": [
    {
     "data": {
      "text/html": [
       "<div>\n",
       "<style scoped>\n",
       "    .dataframe tbody tr th:only-of-type {\n",
       "        vertical-align: middle;\n",
       "    }\n",
       "\n",
       "    .dataframe tbody tr th {\n",
       "        vertical-align: top;\n",
       "    }\n",
       "\n",
       "    .dataframe thead th {\n",
       "        text-align: right;\n",
       "    }\n",
       "</style>\n",
       "<table border=\"1\" class=\"dataframe\">\n",
       "  <thead>\n",
       "    <tr style=\"text-align: right;\">\n",
       "      <th></th>\n",
       "      <th>Track</th>\n",
       "      <th>Code</th>\n",
       "      <th>Unnamed: 2</th>\n",
       "      <th>Course Title</th>\n",
       "      <th>Instructor</th>\n",
       "      <th>Course Introduction</th>\n",
       "    </tr>\n",
       "  </thead>\n",
       "  <tbody>\n",
       "    <tr>\n",
       "      <th>0</th>\n",
       "      <td>FINTECH</td>\n",
       "      <td>ISFS614</td>\n",
       "      <td>ISFS614</td>\n",
       "      <td>Digital Banking &amp; Trends</td>\n",
       "      <td>PATRICK THNG</td>\n",
       "      <td>The financial services industry (FSI) has been...</td>\n",
       "    </tr>\n",
       "  </tbody>\n",
       "</table>\n",
       "</div>"
      ],
      "text/plain": [
       "     Track     Code Unnamed: 2               Course Title    Instructor  \\\n",
       "0  FINTECH  ISFS614    ISFS614  Digital Banking & Trends   PATRICK THNG   \n",
       "\n",
       "                                 Course Introduction  \n",
       "0  The financial services industry (FSI) has been...  "
      ]
     },
     "execution_count": 58,
     "metadata": {},
     "output_type": "execute_result"
    }
   ],
   "source": [
    "df_course.dropna(inplace=True)\n",
    "df_course.Code=df_course.Code.map(lambda x:x.replace(' ',''))\n",
    "dic_a=dict(df_course.Code)\n",
    "my_dic = {k:v for v,k in dic_a.items()}\n",
    "df_course.head(1)"
   ]
  },
  {
   "cell_type": "code",
   "execution_count": 59,
   "id": "4514d90f",
   "metadata": {},
   "outputs": [],
   "source": [
    "df=df.dropna(subset=['Title','FullDescription','Company'])\n",
    "#df.info()\n",
    "df_data=df[df['Title'].str.contains(\"Data|business|analyst\",flags=re.IGNORECASE, regex=True,na=False)]\n",
    "#df_data=df.copy()\n",
    "df_data=df_data.drop_duplicates(subset=['Title','FullDescription'])\n",
    "#df_data.info()"
   ]
  },
  {
   "cell_type": "code",
   "execution_count": 61,
   "id": "7e3a28fa",
   "metadata": {},
   "outputs": [],
   "source": [
    "def clean_text(text):\n",
    "    # text preprocessing\n",
    "    REPLACE_BY_SPACE_RE = re.compile('[#+_/(){}!^?<>\"''*\\[\\]\\|@,;]')\n",
    "    BAD_SYMBOLS_RE = re.compile('[^0-9a-zA-Z #+_]')\n",
    "    match_regex = re.compile('\\d+')\n",
    "    STOPWORDS = set(stopwords.words('english'))\n",
    "    \n",
    "    text = re.sub(REPLACE_BY_SPACE_RE, ' ', text)  # replace REPLACE_BY_SPACE_RE symbols by space in text\n",
    "    text = re.sub(BAD_SYMBOLS_RE, '', text)  # delete symbols which are in BAD_SYMBOLS_RE from text\n",
    "    querywords = text.split()\n",
    "    # change to lower-csae\n",
    "    text = str(text).lower()\n",
    "    # drop the stopwords\n",
    "    text = ' '.join(word for word in text.split() if word not in STOPWORDS) \n",
    "    return text"
   ]
  },
  {
   "cell_type": "code",
   "execution_count": 62,
   "id": "59d8e754",
   "metadata": {},
   "outputs": [
    {
     "name": "stdout",
     "output_type": "stream",
     "text": [
      "<class 'pandas.core.frame.DataFrame'>\n",
      "Int64Index: 16368 entries, 0 to 244750\n",
      "Data columns (total 12 columns):\n",
      " #   Column              Non-Null Count  Dtype \n",
      "---  ------              --------------  ----- \n",
      " 0   Id                  16368 non-null  int64 \n",
      " 1   Title               16368 non-null  object\n",
      " 2   FullDescription     16368 non-null  object\n",
      " 3   LocationRaw         16368 non-null  object\n",
      " 4   LocationNormalized  16368 non-null  object\n",
      " 5   ContractType        3639 non-null   object\n",
      " 6   ContractTime        13749 non-null  object\n",
      " 7   Company             16368 non-null  object\n",
      " 8   Category            16368 non-null  object\n",
      " 9   SalaryRaw           16368 non-null  object\n",
      " 10  SalaryNormalized    16368 non-null  int64 \n",
      " 11  SourceName          16368 non-null  object\n",
      "dtypes: int64(2), object(10)\n",
      "memory usage: 1.6+ MB\n"
     ]
    }
   ],
   "source": [
    "df_data.info()"
   ]
  },
  {
   "cell_type": "code",
   "execution_count": 63,
   "id": "ffda0b38",
   "metadata": {},
   "outputs": [],
   "source": [
    "df_data=df_data.head(8000)"
   ]
  },
  {
   "cell_type": "code",
   "execution_count": 64,
   "id": "de0971c2",
   "metadata": {},
   "outputs": [],
   "source": [
    "for i in df_course.index:\n",
    "    df_course.loc[i,'Course Introduction_Raw']=df_course.loc[i,'Course Introduction']\n",
    "    df_course.loc[i,'Course Introduction']=clean_text(df_course.loc[i,'Course Introduction'])\n",
    "for i in df_data.index:\n",
    "    df_data.loc[i,'FullDescription_Raw']=df_data.loc[i,'FullDescription']\n",
    "    df_data.loc[i,'FullDescription']=clean_text(df_data.loc[i,'FullDescription'])"
   ]
  },
  {
   "cell_type": "code",
   "execution_count": 66,
   "id": "f36d98dc",
   "metadata": {},
   "outputs": [],
   "source": [
    "df_data.to_excel(r'./data/jd_clean.xlsx')\n",
    "df_course.to_excel(r'./data/course_clean.xlsx')"
   ]
  },
  {
   "cell_type": "code",
   "execution_count": null,
   "id": "892f3f17",
   "metadata": {},
   "outputs": [],
   "source": []
  }
 ],
 "metadata": {
  "kernelspec": {
   "display_name": "Python 3 (ipykernel)",
   "language": "python",
   "name": "python3"
  },
  "language_info": {
   "codemirror_mode": {
    "name": "ipython",
    "version": 3
   },
   "file_extension": ".py",
   "mimetype": "text/x-python",
   "name": "python",
   "nbconvert_exporter": "python",
   "pygments_lexer": "ipython3",
   "version": "3.8.8"
  }
 },
 "nbformat": 4,
 "nbformat_minor": 5
}
